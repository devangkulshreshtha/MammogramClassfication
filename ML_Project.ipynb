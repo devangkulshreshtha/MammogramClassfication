{
 "cells": [
  {
   "cell_type": "code",
   "execution_count": 1,
   "metadata": {
    "collapsed": true
   },
   "outputs": [],
   "source": [
    "from skimage import io\n",
    "from skimage.viewer import ImageViewer\n",
    "import pandas as pd\n",
    "from sklearn import linear_model\n",
    "import math\n",
    "import numpy as np\n",
    "import skimage\n",
    "from sklearn.ensemble import RandomForestClassifier,GradientBoostingClassifier,AdaBoostClassifier\n",
    "from sklearn import cross_validation\n",
    "from sklearn import svm\n",
    "from sklearn.metrics import confusion_matrix\n",
    "import matplotlib.pyplot as plt\n",
    "from sklearn.metrics import accuracy_score"
   ]
  },
  {
   "cell_type": "code",
   "execution_count": 2,
   "metadata": {
    "collapsed": false,
    "scrolled": false
   },
   "outputs": [
    {
     "data": {
      "text/html": [
       "<div>\n",
       "<table border=\"1\" class=\"dataframe\">\n",
       "  <thead>\n",
       "    <tr style=\"text-align: right;\">\n",
       "      <th></th>\n",
       "      <th>0</th>\n",
       "      <th>1</th>\n",
       "      <th>2</th>\n",
       "      <th>3</th>\n",
       "      <th>4</th>\n",
       "      <th>5</th>\n",
       "      <th>6</th>\n",
       "    </tr>\n",
       "  </thead>\n",
       "  <tbody>\n",
       "    <tr>\n",
       "      <th>0</th>\n",
       "      <td>mdb001</td>\n",
       "      <td>G</td>\n",
       "      <td>CIRC</td>\n",
       "      <td>B</td>\n",
       "      <td>535</td>\n",
       "      <td>425</td>\n",
       "      <td>197</td>\n",
       "    </tr>\n",
       "    <tr>\n",
       "      <th>1</th>\n",
       "      <td>mdb002</td>\n",
       "      <td>G</td>\n",
       "      <td>CIRC</td>\n",
       "      <td>B</td>\n",
       "      <td>522</td>\n",
       "      <td>280</td>\n",
       "      <td>69</td>\n",
       "    </tr>\n",
       "    <tr>\n",
       "      <th>2</th>\n",
       "      <td>mdb003</td>\n",
       "      <td>D</td>\n",
       "      <td>NORM</td>\n",
       "      <td>N</td>\n",
       "      <td>512</td>\n",
       "      <td>512</td>\n",
       "      <td>100</td>\n",
       "    </tr>\n",
       "    <tr>\n",
       "      <th>3</th>\n",
       "      <td>mdb004</td>\n",
       "      <td>D</td>\n",
       "      <td>NORM</td>\n",
       "      <td>N</td>\n",
       "      <td>512</td>\n",
       "      <td>512</td>\n",
       "      <td>100</td>\n",
       "    </tr>\n",
       "    <tr>\n",
       "      <th>4</th>\n",
       "      <td>mdb005</td>\n",
       "      <td>F</td>\n",
       "      <td>CIRC</td>\n",
       "      <td>B</td>\n",
       "      <td>477</td>\n",
       "      <td>133</td>\n",
       "      <td>30</td>\n",
       "    </tr>\n",
       "  </tbody>\n",
       "</table>\n",
       "</div>"
      ],
      "text/plain": [
       "        0  1     2  3    4    5    6\n",
       "0  mdb001  G  CIRC  B  535  425  197\n",
       "1  mdb002  G  CIRC  B  522  280   69\n",
       "2  mdb003  D  NORM  N  512  512  100\n",
       "3  mdb004  D  NORM  N  512  512  100\n",
       "4  mdb005  F  CIRC  B  477  133   30"
      ]
     },
     "execution_count": 2,
     "metadata": {},
     "output_type": "execute_result"
    }
   ],
   "source": [
    "img_data = pd.read_csv('Final_data.csv',header=None)\n",
    "img_data = img_data[:]\n",
    "data_size = img_data.shape[0]\n",
    "img_data.head()"
   ]
  },
  {
   "cell_type": "code",
   "execution_count": 3,
   "metadata": {
    "collapsed": true
   },
   "outputs": [],
   "source": [
    "import copy\n",
    "def get_glcm_features(angle_code, dist,Z): ## angle_code 0-->1, 45-->2, 90-->3, 135-->4, 180-->5\n",
    "    X=copy.deepcopy(Z)\n",
    "    fa1,fb1,fc1,fd1 = np.zeros(data_size),np.zeros(data_size),np.zeros(data_size),np.zeros(data_size)\n",
    "    img_name = list(img_data[0])\n",
    "    for i in range(len(img_data)) :\n",
    "        name = str(img_name[i])+\".pgm\"\n",
    "        I = io.imread('Final_Dataset/'+name)\n",
    "        if angle_code==1:\n",
    "            glcm = skimage.feature.greycomatrix(I, [dist], [0], normed=True)\n",
    "        elif angle_code==2:\n",
    "            glcm = skimage.feature.greycomatrix(I, [dist], [-dist], normed=True)\n",
    "        elif angle_code==3:\n",
    "            glcm = skimage.feature.greycomatrix(I, [0], [-dist], normed=True)\n",
    "        elif angle_code==4:\n",
    "            glcm = skimage.feature.greycomatrix(I, [-dist], [-dist], normed=True)\n",
    "        elif angle_code==5:\n",
    "            glcm = skimage.feature.greycomatrix(I, [-dist], [0], normed=True)\n",
    "\n",
    "        fa1[i] = skimage.feature.greycoprops(glcm, 'contrast')[0][0]\n",
    "        fb1[i] = skimage.feature.greycoprops(glcm, 'energy')[0][0]\n",
    "        fc1[i] = skimage.feature.greycoprops(glcm, 'homogeneity')[0][0]\n",
    "        fd1[i] = skimage.feature.greycoprops(glcm, 'correlation')[0][0]\n",
    "    X['contrast_ang'+str(angle_code)+'_d'+str(dist)],X['energy_ang'+str(angle_code)+'_d'+str(dist)],X['homogeneity_ang'+str(angle_code)+'_d'+str(dist)],X['correlation_ang'+str(angle_code)+'_d'+str(dist)]=fa1,fb1,fc1,fd1\n",
    "    return X"
   ]
  },
  {
   "cell_type": "code",
   "execution_count": 4,
   "metadata": {
    "collapsed": true
   },
   "outputs": [],
   "source": [
    "def indices_list(l) :\n",
    "    ans=[l[0],l[1],l[2],l[3]]\n",
    "    indices=[0,1,2,3]\n",
    "    for i in range(4,len(l)) :\n",
    "        if l[i]>ans[0]:\n",
    "            ans[3]=ans[2]\n",
    "            ans[2]=ans[1]\n",
    "            ans[1]=ans[0]\n",
    "            ans[0]=l[i]\n",
    "            indices[3]=indices[2]\n",
    "            indices[2]=indices[1]\n",
    "            indices[1]=indices[0]\n",
    "            indices[0]=i\n",
    "        elif l[i]>ans[1]:\n",
    "            ans[3]=ans[2]\n",
    "            ans[2]=ans[1]\n",
    "            ans[1]=l[i]\n",
    "            indices[3]=indices[2]\n",
    "            indices[2]=indices[1]\n",
    "            indices[1]=i\n",
    "        elif l[i]>ans[2]:\n",
    "            ans[3]=ans[2]\n",
    "            ans[2]=l[i]\n",
    "            indices[3]=indices[2]\n",
    "            indices[2]=i\n",
    "        elif l[i]>ans[3]:\n",
    "            ans[3]=l[i]\n",
    "            indices[3]=i\n",
    "    return indices"
   ]
  },
  {
   "cell_type": "code",
   "execution_count": 5,
   "metadata": {
    "collapsed": true
   },
   "outputs": [],
   "source": [
    "def get_accuracy(X,y,trees) :\n",
    "    model = linear_model.LogisticRegression()\n",
    "    return cross_validation.cross_val_score(model,X,y,cv=5).mean()"
   ]
  },
  {
   "cell_type": "code",
   "execution_count": 6,
   "metadata": {
    "collapsed": true
   },
   "outputs": [],
   "source": [
    "def get_accuracy_rf(X,y,trees) :\n",
    "    model = GradientBoostingClassifier(n_estimators=300)\n",
    "    return cross_validation.cross_val_score(model,X,y,cv=5).mean()"
   ]
  },
  {
   "cell_type": "code",
   "execution_count": 7,
   "metadata": {
    "collapsed": false
   },
   "outputs": [],
   "source": [
    "Y = img_data[3].apply(lambda x : 0 if x=='N' else 1)\n",
    "X = pd.DataFrame()\n",
    "L=[]\n",
    "for i in range(1,4) :\n",
    "    l=[]\n",
    "    for j in range(1,30) : \n",
    "        X = get_glcm_features(i,j,pd.DataFrame())\n",
    "        l.append(get_accuracy(X,Y,150))\n",
    "    L.append(l)"
   ]
  },
  {
   "cell_type": "code",
   "execution_count": 8,
   "metadata": {
    "collapsed": true
   },
   "outputs": [],
   "source": [
    "for i in range(len(L)):\n",
    "    plt.plot(range(1,30),L[i])\n",
    "plt.show()"
   ]
  },
  {
   "cell_type": "code",
   "execution_count": 9,
   "metadata": {
    "collapsed": false
   },
   "outputs": [
    {
     "name": "stdout",
     "output_type": "stream",
     "text": [
      "0.800932400932\n"
     ]
    }
   ],
   "source": [
    "X = pd.DataFrame()\n",
    "for i in range(1,4):\n",
    "    indices = indices_list(L[i-1])\n",
    "    for j in indices:\n",
    "        X = get_glcm_features(i,j+1,X)\n",
    "print get_accuracy(X,Y,100)"
   ]
  },
  {
   "cell_type": "code",
   "execution_count": 10,
   "metadata": {
    "collapsed": false
   },
   "outputs": [
    {
     "name": "stdout",
     "output_type": "stream",
     "text": [
      "[ 1.4  0.   1.2  0.   0.6  0.   0.2  1.2  2.2  3.8  2.2  1.6  0.6  0.8  1.8\n",
      "  3.6  0.8  5.   4.2  5.4  1.2  7.6  4.2  3.6  7.2  3.2  6.4  8.4  1.8  1.6\n",
      "  4.4  5.8  0.   1.6  0.   0.   0.   1.8  0.   0.   0.   2.6  0.   0.   0.\n",
      "  2.   0.   0. ]\n"
     ]
    }
   ],
   "source": [
    "from sklearn.tree import ExtraTreeClassifier\n",
    "from sklearn.ensemble import AdaBoostClassifier\n",
    "model6 = AdaBoostClassifier(n_estimators=500)\n",
    "model6.fit(X,Y)\n",
    "x = 100*model6.feature_importances_\n",
    "print x"
   ]
  },
  {
   "cell_type": "code",
   "execution_count": 11,
   "metadata": {
    "collapsed": false
   },
   "outputs": [
    {
     "data": {
      "text/html": [
       "<div>\n",
       "<table border=\"1\" class=\"dataframe\">\n",
       "  <thead>\n",
       "    <tr style=\"text-align: right;\">\n",
       "      <th></th>\n",
       "      <th>energy_ang2_d21</th>\n",
       "      <th>homogeneity_ang2_d21</th>\n",
       "      <th>correlation_ang2_d21</th>\n",
       "      <th>energy_ang2_d24</th>\n",
       "      <th>homogeneity_ang2_d24</th>\n",
       "      <th>contrast_ang2_d8</th>\n",
       "      <th>homogeneity_ang2_d8</th>\n",
       "      <th>correlation_ang2_d8</th>\n",
       "      <th>homogeneity_ang2_d18</th>\n",
       "      <th>correlation_ang2_d18</th>\n",
       "    </tr>\n",
       "  </thead>\n",
       "  <tbody>\n",
       "    <tr>\n",
       "      <th>0</th>\n",
       "      <td>0.019972</td>\n",
       "      <td>0.102839</td>\n",
       "      <td>0.944508</td>\n",
       "      <td>0.019702</td>\n",
       "      <td>0.091644</td>\n",
       "      <td>113.922638</td>\n",
       "      <td>0.183015</td>\n",
       "      <td>0.987131</td>\n",
       "      <td>0.109730</td>\n",
       "      <td>0.954619</td>\n",
       "    </tr>\n",
       "    <tr>\n",
       "      <th>1</th>\n",
       "      <td>0.033220</td>\n",
       "      <td>0.109895</td>\n",
       "      <td>0.918456</td>\n",
       "      <td>0.033546</td>\n",
       "      <td>0.109834</td>\n",
       "      <td>143.535402</td>\n",
       "      <td>0.173735</td>\n",
       "      <td>0.973997</td>\n",
       "      <td>0.112020</td>\n",
       "      <td>0.930794</td>\n",
       "    </tr>\n",
       "    <tr>\n",
       "      <th>2</th>\n",
       "      <td>0.024496</td>\n",
       "      <td>0.094463</td>\n",
       "      <td>0.961822</td>\n",
       "      <td>0.024758</td>\n",
       "      <td>0.104899</td>\n",
       "      <td>69.258912</td>\n",
       "      <td>0.194261</td>\n",
       "      <td>0.990931</td>\n",
       "      <td>0.096271</td>\n",
       "      <td>0.964419</td>\n",
       "    </tr>\n",
       "    <tr>\n",
       "      <th>3</th>\n",
       "      <td>0.030719</td>\n",
       "      <td>0.143517</td>\n",
       "      <td>0.963155</td>\n",
       "      <td>0.030019</td>\n",
       "      <td>0.146202</td>\n",
       "      <td>40.232746</td>\n",
       "      <td>0.209240</td>\n",
       "      <td>0.989735</td>\n",
       "      <td>0.150423</td>\n",
       "      <td>0.960981</td>\n",
       "    </tr>\n",
       "    <tr>\n",
       "      <th>4</th>\n",
       "      <td>0.032878</td>\n",
       "      <td>0.024326</td>\n",
       "      <td>0.148216</td>\n",
       "      <td>0.033080</td>\n",
       "      <td>0.021774</td>\n",
       "      <td>275.510377</td>\n",
       "      <td>0.064017</td>\n",
       "      <td>0.838555</td>\n",
       "      <td>0.027860</td>\n",
       "      <td>0.312995</td>\n",
       "    </tr>\n",
       "  </tbody>\n",
       "</table>\n",
       "</div>"
      ],
      "text/plain": [
       "   energy_ang2_d21  homogeneity_ang2_d21  correlation_ang2_d21  \\\n",
       "0         0.019972              0.102839              0.944508   \n",
       "1         0.033220              0.109895              0.918456   \n",
       "2         0.024496              0.094463              0.961822   \n",
       "3         0.030719              0.143517              0.963155   \n",
       "4         0.032878              0.024326              0.148216   \n",
       "\n",
       "   energy_ang2_d24  homogeneity_ang2_d24  contrast_ang2_d8  \\\n",
       "0         0.019702              0.091644        113.922638   \n",
       "1         0.033546              0.109834        143.535402   \n",
       "2         0.024758              0.104899         69.258912   \n",
       "3         0.030019              0.146202         40.232746   \n",
       "4         0.033080              0.021774        275.510377   \n",
       "\n",
       "   homogeneity_ang2_d8  correlation_ang2_d8  homogeneity_ang2_d18  \\\n",
       "0             0.183015             0.987131              0.109730   \n",
       "1             0.173735             0.973997              0.112020   \n",
       "2             0.194261             0.990931              0.096271   \n",
       "3             0.209240             0.989735              0.150423   \n",
       "4             0.064017             0.838555              0.027860   \n",
       "\n",
       "   correlation_ang2_d18  \n",
       "0              0.954619  \n",
       "1              0.930794  \n",
       "2              0.964419  \n",
       "3              0.960981  \n",
       "4              0.312995  "
      ]
     },
     "execution_count": 11,
     "metadata": {},
     "output_type": "execute_result"
    }
   ],
   "source": [
    "Q=X.iloc[:,x>=4]\n",
    "Q.head()#graph analysis"
   ]
  },
  {
   "cell_type": "code",
   "execution_count": 47,
   "metadata": {
    "collapsed": false
   },
   "outputs": [
    {
     "name": "stdout",
     "output_type": "stream",
     "text": [
      "25\n",
      "0.863636363636\n",
      "22\n",
      "0.878787878788\n",
      "23\n",
      "0.924242424242\n"
     ]
    }
   ],
   "source": [
    "from sklearn.decomposition import PCA\n",
    "X_train, X_test, y_train, y_test = cross_validation.train_test_split(X,Y, test_size=0.2, random_state=3)\n",
    "Qtrain=X_train.iloc[:,x>=3]\n",
    "Qtest=X_test.iloc[:,x>=3]\n",
    "pca = PCA(n_components=15).fit(X_train)\n",
    "X_train_pca = pca.transform(X_train)\n",
    "X_test_pca = pca.transform(X_test)\n",
    "model = GradientBoostingClassifier(n_estimators=500)\n",
    "print get_accuracy_cvset(model,X_train_pca,X_test_pca,y_train,y_test)\n",
    "print get_accuracy_cvset(model,X_train,X_test,y_train,y_test)\n",
    "print get_accuracy_cvset(model,Qtrain,Qtest,y_train,y_test)"
   ]
  },
  {
   "cell_type": "code",
   "execution_count": 42,
   "metadata": {
    "collapsed": false
   },
   "outputs": [
    {
     "name": "stdout",
     "output_type": "stream",
     "text": [
      "42 24\n"
     ]
    }
   ],
   "source": [
    "print len(y_test[y_test==0]) , len(y_test[y_test==1])"
   ]
  },
  {
   "cell_type": "code",
   "execution_count": 48,
   "metadata": {
    "collapsed": false
   },
   "outputs": [
    {
     "name": "stdout",
     "output_type": "stream",
     "text": [
      "0.797948717949\n",
      "0.800932400932\n"
     ]
    }
   ],
   "source": [
    "print get_accuracy(Q,Y,150)\n",
    "print get_accuracy(X,Y,150)"
   ]
  },
  {
   "cell_type": "code",
   "execution_count": 165,
   "metadata": {
    "collapsed": false
   },
   "outputs": [],
   "source": [
    "l=[]\n",
    "for i in range(1,201,10) : \n",
    "    l.append(get_accuracy(Q,Y,i))\n",
    "plt.plot(range(1,201,10),l)\n",
    "plt.show()"
   ]
  },
  {
   "cell_type": "code",
   "execution_count": 5,
   "metadata": {
    "collapsed": true
   },
   "outputs": [],
   "source": [
    "features = ['contrast1','energy1','homogeneity1','correlation1','contrast2','energy2','homogeneity2','correlation2']"
   ]
  },
  {
   "cell_type": "code",
   "execution_count": 21,
   "metadata": {
    "collapsed": false
   },
   "outputs": [],
   "source": [
    "X_train, X_test, y_train, y_test = cross_validation.train_test_split(X,Y, test_size=0.2, random_state=3)"
   ]
  },
  {
   "cell_type": "code",
   "execution_count": 13,
   "metadata": {
    "collapsed": true
   },
   "outputs": [],
   "source": [
    "def get_accuracy_cvset(model,x_train,x_test,y_train,y_test) :\n",
    "    model.fit(x_train,y_train)\n",
    "    ypred = model.predict(x_test)\n",
    "    y_test=np.array(y_test)\n",
    "    mis=0\n",
    "    for i in range(len(ypred)) : mis += abs(ypred[i]-y_test[i])\n",
    "    print len(ypred[ypred==1])\n",
    "    return (len(ypred)-mis)/(len(ypred)+0.00)"
   ]
  },
  {
   "cell_type": "code",
   "execution_count": 220,
   "metadata": {
    "collapsed": false
   },
   "outputs": [
    {
     "name": "stdout",
     "output_type": "stream",
     "text": [
      "0.701148105626\n",
      "25\n",
      "0.80303030303\n"
     ]
    }
   ],
   "source": [
    "model1 = linear_model.LogisticRegression()\n",
    "scores = cross_validation.cross_val_score(model1,X,Y,cv=5)\n",
    "print scores.mean()\n",
    "print get_accuracy(model1,X_train,X_test,y_train,y_test)\n",
    "#print get_accuracy(model1,X_train_pca,X_test_pca,y_train,y_test)"
   ]
  },
  {
   "cell_type": "code",
   "execution_count": 222,
   "metadata": {
    "collapsed": false,
    "scrolled": true
   },
   "outputs": [
    {
     "name": "stdout",
     "output_type": "stream",
     "text": [
      "0.710902777778\n",
      "23\n",
      "0.924242424242\n"
     ]
    }
   ],
   "source": [
    "model2 = RandomForestClassifier(n_estimators=10,min_samples_leaf=5,min_samples_split=10)\n",
    "scores = cross_validation.cross_val_score(model2,X,Y,cv=20)\n",
    "print scores.mean()\n",
    "print get_accuracy(model2,X_train,X_test,y_train,y_test)\n",
    "#print get_accuracy(model2,X_train_pca,X_test_pca,y_train,y_test)"
   ]
  },
  {
   "cell_type": "code",
   "execution_count": 94,
   "metadata": {
    "collapsed": false
   },
   "outputs": [
    {
     "name": "stdout",
     "output_type": "stream",
     "text": [
      "0.797948717949\n",
      "25\n",
      "0.833333333333\n"
     ]
    }
   ],
   "source": [
    "model3 = svm.SVC(kernel='linear', C=1)\n",
    "scores = cross_validation.cross_val_score(model3,X,Y,cv=5)\n",
    "print scores.mean()\n",
    "print get_accuracy(model3,X_train,X_test,y_train,y_test)"
   ]
  },
  {
   "cell_type": "code",
   "execution_count": 154,
   "metadata": {
    "collapsed": true
   },
   "outputs": [],
   "source": [
    "def predict_by_ensemble(mode1,model2,model3,X_test):\n",
    "    x1=model1.predict(X_test)\n",
    "    x2=model2.predict(X_test)\n",
    "    x3=model3.predict(X_test)\n",
    "    y_pred=x1+x2+x3\n",
    "    for i in range(len(y_pred)) :\n",
    "        if y_pred[i]>1 : y_pred[i]=1\n",
    "        else : y_pred[i]=0\n",
    "    return y_pred"
   ]
  },
  {
   "cell_type": "code",
   "execution_count": 198,
   "metadata": {
    "collapsed": false
   },
   "outputs": [
    {
     "name": "stdout",
     "output_type": "stream",
     "text": [
      "20\n",
      "0.909090909091\n"
     ]
    }
   ],
   "source": [
    "ypred = predict_by_ensemble(model2,model4,model6,X_test)\n",
    "y_test=np.array(y_test)\n",
    "mis=0\n",
    "for i in range(len(ypred)) :\n",
    "    mis += abs(ypred[i]-y_test[i])\n",
    "print len(ypred[ypred==1])\n",
    "print (len(ypred)-mis)/(len(ypred)+0.00)"
   ]
  },
  {
   "cell_type": "code",
   "execution_count": 229,
   "metadata": {
    "collapsed": false
   },
   "outputs": [
    {
     "name": "stdout",
     "output_type": "stream",
     "text": [
      "0.456904761905\n",
      "22\n",
      "0.909090909091\n"
     ]
    }
   ],
   "source": [
    "model4 = GradientBoostingClassifier(n_estimators=100,min_samples_leaf=5)\n",
    "scores = cross_validation.cross_val_score(model4,X,Y,cv=20)\n",
    "print scores.mean()\n",
    "print get_accuracy(model4,X_train,X_test,y_train,y_test)\n",
    "#print get_accuracy(model4,X_train_pca,X_test_pca,y_train,y_test)"
   ]
  },
  {
   "cell_type": "code",
   "execution_count": 119,
   "metadata": {
    "collapsed": false
   },
   "outputs": [
    {
     "name": "stdout",
     "output_type": "stream",
     "text": [
      "0.859327217125\n",
      "23\n",
      "0.924242424242\n"
     ]
    }
   ],
   "source": [
    "import xgboost as xgb\n",
    "gbm = xgb.XGBClassifier(n_estimators=10)\n",
    "scores = cross_validation.cross_val_score(gbm,X,Y)\n",
    "print scores.mean()\n",
    "print get_accuracy(gbm,X_train,X_test,y_train,y_test)"
   ]
  },
  {
   "cell_type": "code",
   "execution_count": null,
   "metadata": {
    "collapsed": false
   },
   "outputs": [],
   "source": [
    "from sklearn.decomposition import PCA\n",
    "from sklearn.svm import SVC\n",
    "pca = PCA(n_components=6).fit(X_train)\n",
    "X_train_pca = pca.transform(X_train)\n",
    "X_test_pca = pca.transform(X_test)\n",
    "clf = SVC(kernel='linear',C=1)\n",
    "print get_accuracy(clf,X_train_pca,X_test_pca,y_train,y_test)"
   ]
  },
  {
   "cell_type": "code",
   "execution_count": 103,
   "metadata": {
    "collapsed": false
   },
   "outputs": [
    {
     "name": "stdout",
     "output_type": "stream",
     "text": [
      "0.838419117647\n",
      "27\n",
      "0.833333333333\n"
     ]
    }
   ],
   "source": [
    "from sklearn.tree import DecisionTreeClassifier\n",
    "model5 = DecisionTreeClassifier()\n",
    "scores = cross_validation.cross_val_score(model5,X,Y,cv=20)\n",
    "print scores.mean()\n",
    "print get_accuracy(model5,X_train,X_test,y_train,y_test)"
   ]
  },
  {
   "cell_type": "code",
   "execution_count": 12,
   "metadata": {
    "collapsed": false,
    "scrolled": true
   },
   "outputs": [
    {
     "name": "stdout",
     "output_type": "stream",
     "text": [
      "Accuracy: 0.737373737374\n",
      "[[72  6]\n",
      " [20  1]]\n"
     ]
    }
   ],
   "source": [
    "model2 = RandomForestClassifier(n_estimators=11)\n",
    "model2.fit(X_train,y_train)\n",
    "pred=model2.predict(X_test)\n",
    "print 'Accuracy:', accuracy_score(y_test,pred)\n",
    "conf_mtr = confusion_matrix(y_test, pred)\n",
    "print conf_mtr\n",
    "plt.matshow(conf_mtr)\n",
    "plt.title('Confusion matrix')\n",
    "plt.colorbar()\n",
    "plt.ylabel('True label')\n",
    "plt.xlabel('Predicted label')\n",
    "plt.show()"
   ]
  },
  {
   "cell_type": "code",
   "execution_count": 9,
   "metadata": {
    "collapsed": false,
    "scrolled": true
   },
   "outputs": [
    {
     "data": {
      "text/plain": [
       "207"
      ]
     },
     "execution_count": 9,
     "metadata": {},
     "output_type": "execute_result"
    }
   ],
   "source": [
    "len(Y[Y==0])"
   ]
  },
  {
   "cell_type": "code",
   "execution_count": 55,
   "metadata": {
    "collapsed": false
   },
   "outputs": [
    {
     "data": {
      "text/plain": [
       "228"
      ]
     },
     "execution_count": 55,
     "metadata": {},
     "output_type": "execute_result"
    }
   ],
   "source": [
    "len(y_train)"
   ]
  },
  {
   "cell_type": "code",
   "execution_count": 195,
   "metadata": {
    "collapsed": true
   },
   "outputs": [],
   "source": [
    "foo = Y==1"
   ]
  },
  {
   "cell_type": "code",
   "execution_count": 107,
   "metadata": {
    "collapsed": false,
    "scrolled": false
   },
   "outputs": [
    {
     "name": "stdout",
     "output_type": "stream",
     "text": [
      "0.890977666904\n",
      "0.772727272727\n"
     ]
    }
   ],
   "source": [
    "zeros , ones = X_train[y_train==0] , X_train[y_train==1]\n",
    "X1 = X_train\n",
    "X1 = X_train.append(ones)\n",
    "X1 = X1.append(ones)\n",
    "Y1 = np.concatenate([y_train,np.ones(106)])\n",
    "gbm = GradientBoostingClassifier(n_estimators=1000,min_samples_leaf=5,min_samples_split=10)\n",
    "scores = cross_validation.cross_val_score(gbm,X1[features],Y1,cv=2)\n",
    "print scores.mean()\n",
    "print get_accuracy(gbm,X1[features],X_test[features],Y1,y_test)"
   ]
  },
  {
   "cell_type": "code",
   "execution_count": 108,
   "metadata": {
    "collapsed": false
   },
   "outputs": [
    {
     "data": {
      "text/plain": [
       "0.88018234735091472"
      ]
     },
     "execution_count": 108,
     "metadata": {},
     "output_type": "execute_result"
    }
   ],
   "source": [
    "from sklearn.tree import DecisionTreeClassifier\n",
    "dtc = DecisionTreeClassifier()\n",
    "scores = cross_validation.cross_val_score(dtc,X1[features],Y1,cv=2)\n",
    "scores.mean()\n",
    "In [6]:\n",
    "￼\n",
    "Y = img_data[3].apply(lambda x : 0 if x=='N' else 1)"
   ]
  },
  {
   "cell_type": "code",
   "execution_count": 231,
   "metadata": {
    "collapsed": false
   },
   "outputs": [
    {
     "data": {
      "text/plain": [
       "207"
      ]
     },
     "execution_count": 231,
     "metadata": {},
     "output_type": "execute_result"
    }
   ],
   "source": [
    "len(Y[Y==0])"
   ]
  },
  {
   "cell_type": "code",
   "execution_count": 232,
   "metadata": {
    "collapsed": false
   },
   "outputs": [
    {
     "data": {
      "text/plain": [
       "120"
      ]
     },
     "execution_count": 232,
     "metadata": {},
     "output_type": "execute_result"
    }
   ],
   "source": [
    "len(Y[Y==1])"
   ]
  },
  {
   "cell_type": "code",
   "execution_count": null,
   "metadata": {
    "collapsed": true
   },
   "outputs": [],
   "source": []
  }
 ],
 "metadata": {
  "kernelspec": {
   "display_name": "Python 2",
   "language": "python",
   "name": "python2"
  },
  "language_info": {
   "codemirror_mode": {
    "name": "ipython",
    "version": 2
   },
   "file_extension": ".py",
   "mimetype": "text/x-python",
   "name": "python",
   "nbconvert_exporter": "python",
   "pygments_lexer": "ipython2",
   "version": "2.7.10"
  }
 },
 "nbformat": 4,
 "nbformat_minor": 0
}
